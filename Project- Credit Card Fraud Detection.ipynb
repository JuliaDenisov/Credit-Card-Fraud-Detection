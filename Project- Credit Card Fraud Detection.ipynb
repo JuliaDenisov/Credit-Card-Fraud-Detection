{
 "cells": [
  {
   "cell_type": "markdown",
   "metadata": {},
   "source": [
    "#  <span style=\"color:Indigo\"> Credit Card Fraud Detection"
   ]
  },
  {
   "cell_type": "markdown",
   "metadata": {},
   "source": [
    "# <span style=\"color:purple\">Our Goal-\n",
    "Identify fraud credit card transactions using their credit card activity information.\n",
    "For addition infromation please refer to the attached PDF."
   ]
  },
  {
   "cell_type": "code",
   "execution_count": 130,
   "metadata": {},
   "outputs": [],
   "source": [
    "import pandas as pd\n",
    "import numpy as np\n",
    "import matplotlib as mpl\n",
    "import matplotlib.pyplot as plt\n",
    "import random\n",
    "import seaborn as sns\n",
    "%matplotlib inline"
   ]
  },
  {
   "cell_type": "markdown",
   "metadata": {},
   "source": [
    "## <span style=\"color:purple\"> Data Set Description- \n",
    "Our goal in this section is to explore the data set and find which parameters correlate to Fraud behavior.\n",
    "According to our findings, we will choose and optimize a classification algorithm to predict whether a transaction is a legitamate one or a fraud."
   ]
  },
  {
   "cell_type": "code",
   "execution_count": 131,
   "metadata": {},
   "outputs": [],
   "source": [
    "data=pd.read_csv('./creditcard.csv')\n"
   ]
  },
  {
   "cell_type": "code",
   "execution_count": 132,
   "metadata": {
    "scrolled": true
   },
   "outputs": [
    {
     "data": {
      "text/html": [
       "<div>\n",
       "<style scoped>\n",
       "    .dataframe tbody tr th:only-of-type {\n",
       "        vertical-align: middle;\n",
       "    }\n",
       "\n",
       "    .dataframe tbody tr th {\n",
       "        vertical-align: top;\n",
       "    }\n",
       "\n",
       "    .dataframe thead th {\n",
       "        text-align: right;\n",
       "    }\n",
       "</style>\n",
       "<table border=\"1\" class=\"dataframe\">\n",
       "  <thead>\n",
       "    <tr style=\"text-align: right;\">\n",
       "      <th></th>\n",
       "      <th>Time</th>\n",
       "      <th>V1</th>\n",
       "      <th>V2</th>\n",
       "      <th>V3</th>\n",
       "      <th>V4</th>\n",
       "      <th>V5</th>\n",
       "      <th>V6</th>\n",
       "      <th>V7</th>\n",
       "      <th>V8</th>\n",
       "      <th>V9</th>\n",
       "      <th>...</th>\n",
       "      <th>V21</th>\n",
       "      <th>V22</th>\n",
       "      <th>V23</th>\n",
       "      <th>V24</th>\n",
       "      <th>V25</th>\n",
       "      <th>V26</th>\n",
       "      <th>V27</th>\n",
       "      <th>V28</th>\n",
       "      <th>Amount</th>\n",
       "      <th>Class</th>\n",
       "    </tr>\n",
       "  </thead>\n",
       "  <tbody>\n",
       "    <tr>\n",
       "      <th>0</th>\n",
       "      <td>0.0</td>\n",
       "      <td>-1.359807</td>\n",
       "      <td>-0.072781</td>\n",
       "      <td>2.536347</td>\n",
       "      <td>1.378155</td>\n",
       "      <td>-0.338321</td>\n",
       "      <td>0.462388</td>\n",
       "      <td>0.239599</td>\n",
       "      <td>0.098698</td>\n",
       "      <td>0.363787</td>\n",
       "      <td>...</td>\n",
       "      <td>-0.018307</td>\n",
       "      <td>0.277838</td>\n",
       "      <td>-0.110474</td>\n",
       "      <td>0.066928</td>\n",
       "      <td>0.128539</td>\n",
       "      <td>-0.189115</td>\n",
       "      <td>0.133558</td>\n",
       "      <td>-0.021053</td>\n",
       "      <td>149.62</td>\n",
       "      <td>0</td>\n",
       "    </tr>\n",
       "    <tr>\n",
       "      <th>1</th>\n",
       "      <td>0.0</td>\n",
       "      <td>1.191857</td>\n",
       "      <td>0.266151</td>\n",
       "      <td>0.166480</td>\n",
       "      <td>0.448154</td>\n",
       "      <td>0.060018</td>\n",
       "      <td>-0.082361</td>\n",
       "      <td>-0.078803</td>\n",
       "      <td>0.085102</td>\n",
       "      <td>-0.255425</td>\n",
       "      <td>...</td>\n",
       "      <td>-0.225775</td>\n",
       "      <td>-0.638672</td>\n",
       "      <td>0.101288</td>\n",
       "      <td>-0.339846</td>\n",
       "      <td>0.167170</td>\n",
       "      <td>0.125895</td>\n",
       "      <td>-0.008983</td>\n",
       "      <td>0.014724</td>\n",
       "      <td>2.69</td>\n",
       "      <td>0</td>\n",
       "    </tr>\n",
       "    <tr>\n",
       "      <th>2</th>\n",
       "      <td>1.0</td>\n",
       "      <td>-1.358354</td>\n",
       "      <td>-1.340163</td>\n",
       "      <td>1.773209</td>\n",
       "      <td>0.379780</td>\n",
       "      <td>-0.503198</td>\n",
       "      <td>1.800499</td>\n",
       "      <td>0.791461</td>\n",
       "      <td>0.247676</td>\n",
       "      <td>-1.514654</td>\n",
       "      <td>...</td>\n",
       "      <td>0.247998</td>\n",
       "      <td>0.771679</td>\n",
       "      <td>0.909412</td>\n",
       "      <td>-0.689281</td>\n",
       "      <td>-0.327642</td>\n",
       "      <td>-0.139097</td>\n",
       "      <td>-0.055353</td>\n",
       "      <td>-0.059752</td>\n",
       "      <td>378.66</td>\n",
       "      <td>0</td>\n",
       "    </tr>\n",
       "    <tr>\n",
       "      <th>3</th>\n",
       "      <td>1.0</td>\n",
       "      <td>-0.966272</td>\n",
       "      <td>-0.185226</td>\n",
       "      <td>1.792993</td>\n",
       "      <td>-0.863291</td>\n",
       "      <td>-0.010309</td>\n",
       "      <td>1.247203</td>\n",
       "      <td>0.237609</td>\n",
       "      <td>0.377436</td>\n",
       "      <td>-1.387024</td>\n",
       "      <td>...</td>\n",
       "      <td>-0.108300</td>\n",
       "      <td>0.005274</td>\n",
       "      <td>-0.190321</td>\n",
       "      <td>-1.175575</td>\n",
       "      <td>0.647376</td>\n",
       "      <td>-0.221929</td>\n",
       "      <td>0.062723</td>\n",
       "      <td>0.061458</td>\n",
       "      <td>123.50</td>\n",
       "      <td>0</td>\n",
       "    </tr>\n",
       "    <tr>\n",
       "      <th>4</th>\n",
       "      <td>2.0</td>\n",
       "      <td>-1.158233</td>\n",
       "      <td>0.877737</td>\n",
       "      <td>1.548718</td>\n",
       "      <td>0.403034</td>\n",
       "      <td>-0.407193</td>\n",
       "      <td>0.095921</td>\n",
       "      <td>0.592941</td>\n",
       "      <td>-0.270533</td>\n",
       "      <td>0.817739</td>\n",
       "      <td>...</td>\n",
       "      <td>-0.009431</td>\n",
       "      <td>0.798278</td>\n",
       "      <td>-0.137458</td>\n",
       "      <td>0.141267</td>\n",
       "      <td>-0.206010</td>\n",
       "      <td>0.502292</td>\n",
       "      <td>0.219422</td>\n",
       "      <td>0.215153</td>\n",
       "      <td>69.99</td>\n",
       "      <td>0</td>\n",
       "    </tr>\n",
       "  </tbody>\n",
       "</table>\n",
       "<p>5 rows × 31 columns</p>\n",
       "</div>"
      ],
      "text/plain": [
       "   Time        V1        V2        V3        V4        V5        V6        V7  \\\n",
       "0   0.0 -1.359807 -0.072781  2.536347  1.378155 -0.338321  0.462388  0.239599   \n",
       "1   0.0  1.191857  0.266151  0.166480  0.448154  0.060018 -0.082361 -0.078803   \n",
       "2   1.0 -1.358354 -1.340163  1.773209  0.379780 -0.503198  1.800499  0.791461   \n",
       "3   1.0 -0.966272 -0.185226  1.792993 -0.863291 -0.010309  1.247203  0.237609   \n",
       "4   2.0 -1.158233  0.877737  1.548718  0.403034 -0.407193  0.095921  0.592941   \n",
       "\n",
       "         V8        V9  ...       V21       V22       V23       V24       V25  \\\n",
       "0  0.098698  0.363787  ... -0.018307  0.277838 -0.110474  0.066928  0.128539   \n",
       "1  0.085102 -0.255425  ... -0.225775 -0.638672  0.101288 -0.339846  0.167170   \n",
       "2  0.247676 -1.514654  ...  0.247998  0.771679  0.909412 -0.689281 -0.327642   \n",
       "3  0.377436 -1.387024  ... -0.108300  0.005274 -0.190321 -1.175575  0.647376   \n",
       "4 -0.270533  0.817739  ... -0.009431  0.798278 -0.137458  0.141267 -0.206010   \n",
       "\n",
       "        V26       V27       V28  Amount  Class  \n",
       "0 -0.189115  0.133558 -0.021053  149.62      0  \n",
       "1  0.125895 -0.008983  0.014724    2.69      0  \n",
       "2 -0.139097 -0.055353 -0.059752  378.66      0  \n",
       "3 -0.221929  0.062723  0.061458  123.50      0  \n",
       "4  0.502292  0.219422  0.215153   69.99      0  \n",
       "\n",
       "[5 rows x 31 columns]"
      ]
     },
     "execution_count": 132,
     "metadata": {},
     "output_type": "execute_result"
    }
   ],
   "source": [
    "data.head()"
   ]
  },
  {
   "cell_type": "markdown",
   "metadata": {},
   "source": [
    "According to this, our data includes 284807 transactions (columns), and v1-v28 are fitcher that we will use in order to predict if the transaction is a fraud. in addition to this, we have the amount and the time of each transaction."
   ]
  },
  {
   "cell_type": "code",
   "execution_count": 133,
   "metadata": {},
   "outputs": [
    {
     "name": "stdout",
     "output_type": "stream",
     "text": [
      "\u001b[1m Precentage of legit transaction is\u001b[1m 99.82725143693798\n",
      "\u001b[1m Precentage of frude transaction is\u001b[1m 0.1727485630620034\n"
     ]
    }
   ],
   "source": [
    "count_Legit= len(data[data['Class']==0])\n",
    "count_Frude= len(data[data['Class']==1])\n",
    "pct_of_Legit=count_Legit/(count_Legit+count_Frude)\n",
    "print(\"\\033[1m Precentage of legit transaction is\\033[1m\",pct_of_Legit*100)\n",
    "pct_of_Frude=count_Frude/(count_Legit+count_Frude)\n",
    "print(\"\\033[1m Precentage of frude transaction is\\033[1m\",pct_of_Frude*100)"
   ]
  },
  {
   "cell_type": "code",
   "execution_count": 134,
   "metadata": {},
   "outputs": [
    {
     "data": {
      "image/png": "[encoded data removed]",
      "text/plain": [
       "<Figure size 1296x1152 with 36 Axes>"
      ]
     },
     "metadata": {
      "needs_background": "light"
     },
     "output_type": "display_data"
    }
   ],
   "source": [
    "data.hist(bins=50, figsize=(18,16))\n",
    "plt.show()"
   ]
  },
  {
   "cell_type": "markdown",
   "metadata": {},
   "source": [
    "Moreover, in the full data set we have too many \"Legit\" transactions, and in order to make the set be lighter we will use a modify vertion of the data- set that we will reduse part of his \"Legit\" transaction. in this set the difference between the \"Fraud\" and the \"Legit\" transaction will be smaller."
   ]
  },
  {
   "cell_type": "code",
   "execution_count": 135,
   "metadata": {},
   "outputs": [],
   "source": [
    "class0 = data[data.Class == 0]\n",
    "class1 = data[data.Class == 1]"
   ]
  },
  {
   "cell_type": "code",
   "execution_count": 136,
   "metadata": {},
   "outputs": [],
   "source": [
    "data_copy = data.copy()\n",
    "data_crop = data_copy[data_copy.Class==0]\n",
    "Legit = data_crop.sample(frac = 0.05)\n",
    "new_dataset = pd.concat([Legit,class1])"
   ]
  },
  {
   "cell_type": "code",
   "execution_count": 137,
   "metadata": {},
   "outputs": [
    {
     "name": "stdout",
     "output_type": "stream",
     "text": [
      "            Time        V1        V2        V3        V4        V5        V6  \\\n",
      "8437     11319.0  0.310035  1.930673 -1.926568  1.824349  0.996577 -1.228327   \n",
      "113264   72998.0  1.136992  0.106427  0.289390  0.892783 -0.073193  0.074396   \n",
      "68983    53215.0  1.081011 -0.256119  0.788211  1.281187 -0.698987  0.235786   \n",
      "10277    16163.0 -0.385372  1.085612  1.562856  1.498063  0.118136  0.075954   \n",
      "266847  162509.0  1.928146 -0.188099 -0.787256  0.252817 -0.308491 -1.164406   \n",
      "...          ...       ...       ...       ...       ...       ...       ...   \n",
      "279863  169142.0 -1.927883  1.125653 -4.518331  1.749293 -1.566487 -2.010494   \n",
      "280143  169347.0  1.378559  1.289381 -5.004247  1.411850  0.442581 -1.326536   \n",
      "280149  169351.0 -0.676143  1.126366 -2.213700  0.468308 -1.120541 -0.003346   \n",
      "281144  169966.0 -3.113832  0.585864 -5.399730  1.817092 -0.840618 -2.943548   \n",
      "281674  170348.0  1.991976  0.158476 -2.583441  0.408670  1.151147 -0.096695   \n",
      "\n",
      "              V7        V8        V9  ...       V21       V22       V23  \\\n",
      "8437    0.346262  0.292607  0.368688  ... -0.145350 -0.037917  0.180773   \n",
      "113264 -0.121310  0.169470 -0.044013  ...  0.002947 -0.048529 -0.046173   \n",
      "68983  -0.482638  0.249598  0.816608  ... -0.006639  0.115310 -0.183615   \n",
      "10277   0.405556  0.118658  1.233174  ... -0.209653 -0.046630 -0.141007   \n",
      "266847  0.159744 -0.361076  0.328755  ... -0.404908 -1.255663  0.483466   \n",
      "...          ...       ...       ...  ...       ...       ...       ...   \n",
      "279863 -0.882850  0.697211 -2.064945  ...  0.778584 -0.319189  0.639419   \n",
      "280143 -1.413170  0.248525 -1.127396  ...  0.370612  0.028234 -0.145640   \n",
      "280149 -2.234739  1.210158 -0.652250  ...  0.751826  0.834108  0.190944   \n",
      "281144 -2.208002  1.058733 -1.632333  ...  0.583276 -0.269209 -0.456108   \n",
      "281674  0.223050 -0.068384  0.577829  ... -0.164350 -0.295135 -0.072173   \n",
      "\n",
      "             V24       V25       V26       V27       V28  Amount  Class  \n",
      "8437   -0.160520 -0.562011 -0.441346  0.125276 -0.077037    2.32      0  \n",
      "113264 -0.339419  0.444799 -0.404998  0.025261  0.009647   20.98      0  \n",
      "68983  -0.007596  0.636481 -0.272815  0.039955  0.017201   43.05      0  \n",
      "10277  -0.010906 -0.170470 -0.256333  0.395459  0.193604    2.49      0  \n",
      "266847  0.034918 -0.701011  0.006875 -0.070663 -0.034176   66.62      0  \n",
      "...          ...       ...       ...       ...       ...     ...    ...  \n",
      "279863 -0.294885  0.537503  0.788395  0.292680  0.147968  390.00      1  \n",
      "280143 -0.081049  0.521875  0.739467  0.389152  0.186637    0.76      1  \n",
      "280149  0.032070 -0.739695  0.471111  0.385107  0.194361   77.89      1  \n",
      "281144 -0.183659 -0.328168  0.606116  0.884876 -0.253700  245.00      1  \n",
      "281674 -0.450261  0.313267 -0.289617  0.002988 -0.015309   42.53      1  \n",
      "\n",
      "[14708 rows x 31 columns]\n"
     ]
    }
   ],
   "source": [
    "print(new_dataset)"
   ]
  },
  {
   "cell_type": "markdown",
   "metadata": {},
   "source": [
    "According to this, our data includes 284807 transactions (columns), and v1-v28 are fitcher that we will use in order to predict if the transaction is a fraud. in addition to this, we have the amount and the time of each transaction."
   ]
  },
  {
   "cell_type": "code",
   "execution_count": 138,
   "metadata": {},
   "outputs": [
    {
     "name": "stdout",
     "output_type": "stream",
     "text": [
      "\u001b[1m Precentage of legit transaction is\u001b[1m 96.65488169703562\n",
      "\u001b[1m Precentage of frude transaction is\u001b[1m 3.3451183029643734\n"
     ]
    }
   ],
   "source": [
    "count_Legit= len(Legit)\n",
    "count_Frude= len(new_dataset[new_dataset['Class']==1])\n",
    "\n",
    "pct_of_Legit=count_Legit/(count_Legit+count_Frude)\n",
    "print(\"\\033[1m Precentage of legit transaction is\\033[1m\",pct_of_Legit*100)\n",
    "pct_of_Frude=count_Frude/(count_Legit+count_Frude)\n",
    "print(\"\\033[1m Precentage of frude transaction is\\033[1m\",pct_of_Frude*100)"
   ]
  },
  {
   "cell_type": "code",
   "execution_count": 139,
   "metadata": {},
   "outputs": [
    {
     "data": {
      "text/plain": [
       "([<matplotlib.patches.Wedge at 0x2ec5660cd88>,\n",
       "  <matplotlib.patches.Wedge at 0x2ec52188b88>],\n",
       " [Text(-1.093931439157568, -0.11538633551097728, 'Fraud'),\n",
       "  Text(1.3922763839844252, 0.14685527092771883, 'Legit')],\n",
       " [Text(-0.596689875904128, -0.06293800118780578, '3.35%'),\n",
       "  Text(0.8950348182757017, 0.09440695988210494, '96.65%')])"
      ]
     },
     "execution_count": 139,
     "metadata": {},
     "output_type": "execute_result"
    },
    {
     "data": {
      "image/png": "[encoded data removed]",
      "text/plain": [
       "<Figure size 432x288 with 1 Axes>"
      ]
     },
     "metadata": {},
     "output_type": "display_data"
    }
   ],
   "source": [
    "Frude=new_dataset[new_dataset.Class==1]\n",
    "Legit= Legit\n",
    "counts = [Frude.shape[0], Legit.shape[0]]\n",
    "labels = ['Fraud','Legit']\n",
    "plt.pie(counts, labels=labels, \n",
    "          autopct=\"%0.2f%%\", \n",
    "          explode=[0, 0.3], #מרחב בין החלקים (הרחקה)\n",
    "          startangle=180) #סיבוב העיגול"
   ]
  },
  {
   "cell_type": "code",
   "execution_count": 140,
   "metadata": {},
   "outputs": [
    {
     "data": {
      "text/plain": [
       "0    14216\n",
       "1      492\n",
       "Name: Class, dtype: int64"
      ]
     },
     "execution_count": 140,
     "metadata": {},
     "output_type": "execute_result"
    }
   ],
   "source": [
    "new_dataset['Class'].value_counts()"
   ]
  },
  {
   "cell_type": "markdown",
   "metadata": {},
   "source": [
    "Since we remove 95% from the Legit transactions, we received a more balanced dataset.\n",
    "We decided to use a dataset that includes more than 10K transactions but less than the original. The main reason was to avoid a slower analysis.We do consider using the SMOTE method to make more \"Frude transactions\" in a synthetic way. However, we decided that it may increase the error level, and we only removed part of the legit transactions."
   ]
  },
  {
   "cell_type": "markdown",
   "metadata": {},
   "source": [
    "# <span style=\"color:purple\"> Classification Algorithms \n",
    "\n",
    "In this section, we will try out different classification algorithms to find the best prediction model for identifying credit card scammers activity.\n",
    "* The first step will be to create random training and testing sets (Ratio of 80:20). \n",
    "* We will scale our data by using the MinMax method.\n",
    "* We will try different algorithms to reach the best classification score."
   ]
  },
  {
   "cell_type": "code",
   "execution_count": 141,
   "metadata": {},
   "outputs": [],
   "source": [
    "from sklearn import svm\n",
    "from sklearn import neighbors \n",
    "from sklearn.model_selection import train_test_split\n",
    "from sklearn.preprocessing import MinMaxScaler\n",
    "%matplotlib inline\n",
    "\n",
    "scaler = MinMaxScaler()"
   ]
  },
  {
   "cell_type": "code",
   "execution_count": 142,
   "metadata": {},
   "outputs": [],
   "source": [
    "x = new_dataset[:]\n",
    "y = new_dataset['Class']"
   ]
  },
  {
   "cell_type": "code",
   "execution_count": 143,
   "metadata": {},
   "outputs": [],
   "source": [
    "from sklearn.model_selection import train_test_split"
   ]
  },
  {
   "cell_type": "code",
   "execution_count": 144,
   "metadata": {},
   "outputs": [],
   "source": [
    "X_train, X_test, y_train, y_test = train_test_split(x, y, random_state=0)\n",
    "X_train_scaled = scaler.fit_transform(X_train)\n",
    "X_test_scaled = scaler.transform(X_test)\n"
   ]
  },
  {
   "cell_type": "markdown",
   "metadata": {},
   "source": [
    "## <span style=\"color:HotPink\"> Dummy Classifiers"
   ]
  },
  {
   "cell_type": "code",
   "execution_count": 146,
   "metadata": {},
   "outputs": [
    {
     "data": {
      "text/plain": [
       "0.9689964645091107"
      ]
     },
     "execution_count": 146,
     "metadata": {},
     "output_type": "execute_result"
    }
   ],
   "source": [
    "from sklearn.dummy import DummyClassifier\n",
    "from sklearn.svm import SVC\n",
    "\n",
    "dummy_majority = DummyClassifier(\n",
    "    strategy = 'most_frequent').fit(X_train, y_train)\n",
    "y_dummy_predictions = dummy_majority.predict(X_test)\n",
    "\n",
    "dummy_majority.score(X_test, y_test)"
   ]
  },
  {
   "cell_type": "markdown",
   "metadata": {},
   "source": [
    "Dummy Classifier is a classifier that makes predictions using simple rules, which can be useful as a baseline for comparison against actual classifiers, especially with imbalanced classes.\n",
    "The following result will be baseline for comparison against  our actual classifiers."
   ]
  },
  {
   "cell_type": "markdown",
   "metadata": {},
   "source": [
    "## <span style=\"color:HotPink\"> Linear regression"
   ]
  },
  {
   "cell_type": "code",
   "execution_count": 147,
   "metadata": {},
   "outputs": [
    {
     "name": "stdout",
     "output_type": "stream",
     "text": [
      "linear model coeff (w): [-2.88957328e-21 -1.05657662e-16  7.72193625e-17 -5.92038507e-17\n",
      " -4.66399334e-17  2.19822753e-17  1.03579683e-16 -1.46288506e-16\n",
      "  8.34212988e-18  1.35631592e-16  1.01094178e-16  2.67245604e-16\n",
      "  2.74134476e-16  7.81948997e-17 -5.66225064e-17 -2.68931443e-17\n",
      "  3.08251645e-17 -3.06166357e-16  2.26396191e-18  1.46452785e-16\n",
      " -1.43324839e-16 -1.48999748e-18 -1.67924359e-16  1.41724955e-16\n",
      "  1.61561694e-17  2.11181187e-17  3.18893500e-17  5.90017939e-18\n",
      "  4.77878214e-16 -1.66884914e-16  1.00000000e+00]\n",
      "linear model intercept (b): 0.000\n",
      "R-squard score (training): 1.000\n",
      "R-squard score (test): 1.000\n",
      "Conclusion- for Linear Regression the model result is over fitting.\n"
     ]
    }
   ],
   "source": [
    "from sklearn.linear_model import LinearRegression \n",
    "linreg = LinearRegression().fit(X_train , y_train)\n",
    "\n",
    "print('linear model coeff (w): {}'.format(linreg.coef_))\n",
    "print('linear model intercept (b): {:.3f}'.format(linreg.intercept_))\n",
    "print('R-squard score (training): {:.3f}'.format(linreg.score(X_train , y_train)))\n",
    "print('R-squard score (test): {:.3f}'.format(linreg.score(X_train , y_train)))\n",
    "print('Conclusion- for Linear Regression the model result is over fitting.')"
   ]
  },
  {
   "cell_type": "markdown",
   "metadata": {},
   "source": [
    "#### <span style=\"color:pink\"> Ridge"
   ]
  },
  {
   "cell_type": "code",
   "execution_count": 148,
   "metadata": {},
   "outputs": [
    {
     "name": "stdout",
     "output_type": "stream",
     "text": [
      "R-squard score (training): 0.995\n",
      "R-squard score (test): 0.995\n",
      "Number of non-zero features: 31\n",
      "Conclusion- We can see that the Ridge model give us good result and we may use the Ridge model for our goal.\n"
     ]
    }
   ],
   "source": [
    "from sklearn.linear_model import Ridge\n",
    "\n",
    "linridge = Ridge(alpha = 20.0).fit(X_train_scaled, y_train)\n",
    "\n",
    "print('R-squard score (training): {:.3f}'.format(linridge.score(X_train_scaled , y_train)))\n",
    "print('R-squard score (test): {:.3f}'.format(linridge.score(X_test_scaled , y_test)))\n",
    "print('Number of non-zero features: {}'.format(np.sum(linridge.coef_ !=0)))\n",
    "print('Conclusion- We can see that the Ridge model give us good result and we may use the Ridge model for our goal.')"
   ]
  },
  {
   "cell_type": "markdown",
   "metadata": {},
   "source": [
    "#### <span style=\"color:pink\"> Lasso"
   ]
  },
  {
   "cell_type": "code",
   "execution_count": 149,
   "metadata": {},
   "outputs": [
    {
     "name": "stdout",
     "output_type": "stream",
     "text": [
      "Lasso:\n",
      "Accutacy of Lasso regression classifier on training set: 0.00\n",
      "Accutacy of Lasso regression classifier on test set: 0.00\n",
      "Number of non-zero features: 1\n"
     ]
    }
   ],
   "source": [
    "from sklearn.linear_model import Lasso\n",
    "\n",
    "linlasso = Lasso(alpha = 5.0, max_iter = 1000).fit(X_train, y_train)\n",
    "print('Lasso:')\n",
    "print('Accutacy of Lasso regression classifier on training set: {:.2f}'.format(linlasso.score(X_train, y_train)))\n",
    "print('Accutacy of Lasso regression classifier on test set: {:.2f}'.format(linlasso.score(X_test, y_test)))\n",
    "print('Number of non-zero features: {}'.format(np.sum(linlasso.coef_ !=0)))"
   ]
  },
  {
   "cell_type": "code",
   "execution_count": 150,
   "metadata": {},
   "outputs": [
    {
     "name": "stdout",
     "output_type": "stream",
     "text": [
      "Lasso scaled:\n",
      "R-squard score (training): 0.000\n",
      "R-squard score (test): -0.000\n",
      "Number of non-zero features: 0\n",
      "The reason we got the follow result is beacuse when we using Lasso model when there is only a few variables with medium/large effect. In our dataset we have alot of variables.\n"
     ]
    }
   ],
   "source": [
    "from sklearn.linear_model import Lasso\n",
    "\n",
    "linlasso = Lasso(alpha = 6.0, max_iter = 1000).fit(X_train_scaled, y_train)\n",
    "\n",
    "print('Lasso scaled:')\n",
    "print('R-squard score (training): {:.3f}'.format(linlasso.score(X_train_scaled , y_train)))\n",
    "print('R-squard score (test): {:.3f}'.format(linlasso.score(X_test_scaled , y_test)))\n",
    "print('Number of non-zero features: {}'.format(np.sum(linlasso.coef_ !=0)))\n",
    "print('The reason we got the follow result is beacuse when we using Lasso model when there is only a few variables with medium/large effect. In our dataset we have alot of variables.')"
   ]
  },
  {
   "cell_type": "markdown",
   "metadata": {},
   "source": [
    "#### <span style=\"color:pink\"> LogisticRegression"
   ]
  },
  {
   "cell_type": "code",
   "execution_count": 151,
   "metadata": {},
   "outputs": [
    {
     "name": "stdout",
     "output_type": "stream",
     "text": [
      "Accutacy of Logistic regression classifier on training set: 0.99\n",
      "Accutacy of Logistic regression classifier on test set: 0.99\n"
     ]
    },
    {
     "name": "stderr",
     "output_type": "stream",
     "text": [
      "C:\\Users\\julia.denisov\\anaconda3\\lib\\site-packages\\sklearn\\linear_model\\_logistic.py:940: ConvergenceWarning: lbfgs failed to converge (status=1):\n",
      "STOP: TOTAL NO. of ITERATIONS REACHED LIMIT.\n",
      "\n",
      "Increase the number of iterations (max_iter) or scale the data as shown in:\n",
      "    https://scikit-learn.org/stable/modules/preprocessing.html\n",
      "Please also refer to the documentation for alternative solver options:\n",
      "    https://scikit-learn.org/stable/modules/linear_model.html#logistic-regression\n",
      "  extra_warning_msg=_LOGISTIC_SOLVER_CONVERGENCE_MSG)\n"
     ]
    }
   ],
   "source": [
    "from sklearn.linear_model import LogisticRegression \n",
    "\n",
    "clf = LogisticRegression(C=1.).fit(X_train, y_train)\n",
    "print('Accutacy of Logistic regression classifier on training set: {:.2f}'.format(clf.score(X_train, y_train)))\n",
    "print('Accutacy of Logistic regression classifier on test set: {:.2f}'.format(clf.score(X_test, y_test)))"
   ]
  },
  {
   "cell_type": "markdown",
   "metadata": {},
   "source": [
    "## <span style=\"color:HotPink\"> SVM"
   ]
  },
  {
   "cell_type": "code",
   "execution_count": 152,
   "metadata": {},
   "outputs": [
    {
     "name": "stdout",
     "output_type": "stream",
     "text": [
      "Accutacy of Linear SVC classifier on training set: 0.97\n",
      "Accutacy of Linear SVC classifier on test set: 0.98\n"
     ]
    },
    {
     "name": "stderr",
     "output_type": "stream",
     "text": [
      "C:\\Users\\julia.denisov\\anaconda3\\lib\\site-packages\\sklearn\\svm\\_base.py:947: ConvergenceWarning: Liblinear failed to converge, increase the number of iterations.\n",
      "  \"the number of iterations.\", ConvergenceWarning)\n"
     ]
    }
   ],
   "source": [
    "from sklearn.svm import LinearSVC\n",
    "\n",
    "clf = LinearSVC().fit(X_train, y_train)\n",
    "print('Accutacy of Linear SVC classifier on training set: {:.2f}'.format(clf.score(X_train, y_train)))\n",
    "print('Accutacy of Linear SVC classifier on test set: {:.2f}'.format(clf.score(X_test, y_test)))"
   ]
  },
  {
   "cell_type": "code",
   "execution_count": 153,
   "metadata": {},
   "outputs": [
    {
     "name": "stdout",
     "output_type": "stream",
     "text": [
      "Accutacy of Linear SVC classifier with c=5 on training set: 0.97\n",
      "Accutacy of Linear SVC classifier with c=5 on test set: 0.97\n"
     ]
    },
    {
     "name": "stderr",
     "output_type": "stream",
     "text": [
      "C:\\Users\\julia.denisov\\anaconda3\\lib\\site-packages\\sklearn\\svm\\_base.py:947: ConvergenceWarning: Liblinear failed to converge, increase the number of iterations.\n",
      "  \"the number of iterations.\", ConvergenceWarning)\n"
     ]
    }
   ],
   "source": [
    "clf = LinearSVC(C=5).fit(X_train, y_train)\n",
    "print('Accutacy of Linear SVC classifier with c=5 on training set: {:.2f}'.format(clf.score(X_train, y_train)))\n",
    "print('Accutacy of Linear SVC classifier with c=5 on test set: {:.2f}'.format(clf.score(X_test, y_test)))"
   ]
  },
  {
   "cell_type": "code",
   "execution_count": 154,
   "metadata": {
    "scrolled": true
   },
   "outputs": [
    {
     "name": "stdout",
     "output_type": "stream",
     "text": [
      "Accutacy of Linear SVC classifier with c=5 and random_state = 67 on training set: 0.97\n",
      "Accutacy of Linear SVC classifier with c=5 and random_state = 67 set: 0.98\n"
     ]
    },
    {
     "name": "stderr",
     "output_type": "stream",
     "text": [
      "C:\\Users\\julia.denisov\\anaconda3\\lib\\site-packages\\sklearn\\svm\\_base.py:947: ConvergenceWarning: Liblinear failed to converge, increase the number of iterations.\n",
      "  \"the number of iterations.\", ConvergenceWarning)\n"
     ]
    }
   ],
   "source": [
    "clf = LinearSVC(C=5, random_state = 67).fit(X_train, y_train)\n",
    "print('Accutacy of Linear SVC classifier with c=5 and random_state = 67 on training set: {:.2f}'.format(clf.score(X_train, y_train)))\n",
    "print('Accutacy of Linear SVC classifier with c=5 and random_state = 67 set: {:.2f}'.format(clf.score(X_test, y_test)))"
   ]
  },
  {
   "cell_type": "code",
   "execution_count": 155,
   "metadata": {},
   "outputs": [
    {
     "name": "stdout",
     "output_type": "stream",
     "text": [
      "Accutacy of Linear SVC classifier with random_state = 67 on training set: 0.97\n",
      "Accutacy of Linear SVC classifier with random_state = 67 set: 0.98\n"
     ]
    },
    {
     "name": "stderr",
     "output_type": "stream",
     "text": [
      "C:\\Users\\julia.denisov\\anaconda3\\lib\\site-packages\\sklearn\\svm\\_base.py:947: ConvergenceWarning: Liblinear failed to converge, increase the number of iterations.\n",
      "  \"the number of iterations.\", ConvergenceWarning)\n"
     ]
    }
   ],
   "source": [
    "clf = LinearSVC(random_state = 88).fit(X_train, y_train)\n",
    "print('Accutacy of Linear SVC classifier with random_state = 67 on training set: {:.2f}'.format(clf.score(X_train, y_train)))\n",
    "print('Accutacy of Linear SVC classifier with random_state = 67 set: {:.2f}'.format(clf.score(X_test, y_test)))"
   ]
  },
  {
   "cell_type": "markdown",
   "metadata": {},
   "source": [
    "Conclusion- according to the above for LinearSVC the best result we received with C=5/ random state = 88."
   ]
  },
  {
   "cell_type": "code",
   "execution_count": 156,
   "metadata": {},
   "outputs": [
    {
     "name": "stdout",
     "output_type": "stream",
     "text": [
      "Dataset normalized with MinMax scaling:\n",
      "Accutacy of RBF-kernel SVC classifier on training set: 1.00\n",
      "Accutacy of RBF-kernel SVC classifier on test set: 1.00\n",
      "Conclusion-Over fitting\n"
     ]
    }
   ],
   "source": [
    "from sklearn.svm import SVC\n",
    "\n",
    "clf = SVC(C=100.).fit(X_train_scaled, y_train)\n",
    "print('Dataset normalized with MinMax scaling:')\n",
    "print('Accutacy of RBF-kernel SVC classifier on training set: {:.2f}'.format(clf.score(X_train_scaled, y_train)))\n",
    "print('Accutacy of RBF-kernel SVC classifier on test set: {:.2f}'.format(clf.score(X_test_scaled, y_test)))\n",
    "print('Conclusion-Over fitting')"
   ]
  },
  {
   "cell_type": "code",
   "execution_count": 157,
   "metadata": {},
   "outputs": [
    {
     "data": {
      "text/plain": [
       "0.9847701930921947"
      ]
     },
     "execution_count": 157,
     "metadata": {},
     "output_type": "execute_result"
    }
   ],
   "source": [
    "svm = SVC(kernel='linear', C=1).fit(X_train, y_train)\n",
    "svm.score(X_test, y_test)"
   ]
  },
  {
   "cell_type": "markdown",
   "metadata": {},
   "source": [
    "## <span style=\"color:HotPink\"> KNN"
   ]
  },
  {
   "cell_type": "code",
   "execution_count": 47,
   "metadata": {},
   "outputs": [
    {
     "data": {
      "text/plain": [
       "0.9687245036714713"
      ]
     },
     "execution_count": 47,
     "metadata": {},
     "output_type": "execute_result"
    }
   ],
   "source": [
    "from sklearn.neighbors import KNeighborsClassifier\n",
    "knn = KNeighborsClassifier(n_neighbors = 5)\n",
    "\n",
    "knn.fit(X_train, y_train)\n",
    "knn.score(X_test, y_test)\n"
   ]
  },
  {
   "cell_type": "code",
   "execution_count": 42,
   "metadata": {},
   "outputs": [
    {
     "data": {
      "text/plain": [
       "0.970628229534947"
      ]
     },
     "execution_count": 42,
     "metadata": {},
     "output_type": "execute_result"
    }
   ],
   "source": [
    "from sklearn.neighbors import KNeighborsClassifier\n",
    "knn2 = KNeighborsClassifier(n_neighbors = 7)\n",
    "\n",
    "knn2.fit(X_train, y_train)\n",
    "knn2.score(X_test, y_test)\n"
   ]
  },
  {
   "cell_type": "code",
   "execution_count": 43,
   "metadata": {},
   "outputs": [
    {
     "data": {
      "text/plain": [
       "0.9676366603209138"
      ]
     },
     "execution_count": 43,
     "metadata": {},
     "output_type": "execute_result"
    }
   ],
   "source": [
    "from sklearn.neighbors import KNeighborsClassifier\n",
    "knn3 = KNeighborsClassifier(n_neighbors = 3)\n",
    "\n",
    "knn3.fit(X_train, y_train)\n",
    "knn3.score(X_test, y_test)"
   ]
  },
  {
   "cell_type": "code",
   "execution_count": 49,
   "metadata": {},
   "outputs": [
    {
     "data": {
      "text/plain": [
       "0.9703562686973076"
      ]
     },
     "execution_count": 49,
     "metadata": {},
     "output_type": "execute_result"
    }
   ],
   "source": [
    "from sklearn.neighbors import KNeighborsClassifier\n",
    "knn8 = KNeighborsClassifier(n_neighbors = 8)\n",
    "\n",
    "knn8.fit(X_train, y_train)\n",
    "knn8.score(X_test, y_test)"
   ]
  },
  {
   "cell_type": "markdown",
   "metadata": {},
   "source": [
    "Conclusion- according to the above for KNN the best result we received with n=7"
   ]
  },
  {
   "cell_type": "markdown",
   "metadata": {},
   "source": [
    "## <span style=\"color:HotPink\"> K Means"
   ]
  },
  {
   "cell_type": "code",
   "execution_count": 160,
   "metadata": {},
   "outputs": [
    {
     "data": {
      "image/png": "[encoded data removed]",
      "text/plain": [
       "<Figure size 432x288 with 1 Axes>"
      ]
     },
     "metadata": {
      "needs_background": "light"
     },
     "output_type": "display_data"
    }
   ],
   "source": [
    "from sklearn.datasets.samples_generator import make_blobs\n",
    "x, y_train = make_blobs(n_samples=300, centers=6,\n",
    "                       cluster_std=0.70, random_state=0)\n",
    "plt.scatter(x[:, 0], x[:, 1], s=50);"
   ]
  },
  {
   "cell_type": "code",
   "execution_count": 161,
   "metadata": {},
   "outputs": [],
   "source": [
    "from sklearn.cluster import KMeans\n",
    "kmeans = KMeans(n_clusters=6)\n",
    "kmeans.fit(x)\n",
    "y_kmeans = kmeans.predict(x)"
   ]
  },
  {
   "cell_type": "code",
   "execution_count": 164,
   "metadata": {},
   "outputs": [
    {
     "data": {
      "text/plain": [
       "<matplotlib.collections.PathCollection at 0x2ec49bdd048>"
      ]
     },
     "execution_count": 164,
     "metadata": {},
     "output_type": "execute_result"
    },
    {
     "data": {
      "image/png": "[encoded data removed]",
      "text/plain": [
       "<Figure size 432x288 with 1 Axes>"
      ]
     },
     "metadata": {
      "needs_background": "light"
     },
     "output_type": "display_data"
    }
   ],
   "source": [
    "#Let's visualize the results by plotting the data colored by these labels. \n",
    "# We will also plot the cluster centers as determined by the k-means estimator:\n",
    "plt.scatter(x[:, 0], x[:, 1], c=y_kmeans, s=50, cmap='rainbow')\n",
    "\n",
    "centers = kmeans.cluster_centers_\n",
    "plt.scatter(centers[:, 0], centers[:, 1], c='black', s=200, alpha=0.5)"
   ]
  },
  {
   "cell_type": "markdown",
   "metadata": {},
   "source": [
    "## <span style=\"color:HotPink\"> DecisionTree"
   ]
  },
  {
   "cell_type": "markdown",
   "metadata": {},
   "source": [
    "#### <span style=\"color:pink\"> DecisionTreeClassifier"
   ]
  },
  {
   "cell_type": "code",
   "execution_count": 50,
   "metadata": {},
   "outputs": [
    {
     "name": "stdout",
     "output_type": "stream",
     "text": [
      "Accuracy of DT classifier on training set: 1.00\n",
      "Accuracy of DT classifier on test set: 1.00\n",
      "Conclusion-Over fitting\n"
     ]
    }
   ],
   "source": [
    "from sklearn.tree import DecisionTreeClassifier\n",
    "\n",
    "#clf = DecisionTreeClassifier(random_state = 0).fit(X_train, y_train)\n",
    "#since we use this model and we noticed that we have over fitting we try to use some hyper parmaters:\n",
    "clf = DecisionTreeClassifier(max_depth = 7, random_state = 0).fit(X_train, y_train)\n",
    "\n",
    "\n",
    "print('Accuracy of DT classifier on training set: {:.2f}'.format(clf.score(X_train, y_train)))\n",
    "print('Accuracy of DT classifier on test set: {:.2f}'.format(clf.score(X_test, y_test)))\n",
    "print('Conclusion-Over fitting')"
   ]
  },
  {
   "cell_type": "markdown",
   "metadata": {},
   "source": [
    "#### <span style=\"color:pink\"> RandomForestClassifier"
   ]
  },
  {
   "cell_type": "code",
   "execution_count": 81,
   "metadata": {},
   "outputs": [
    {
     "name": "stdout",
     "output_type": "stream",
     "text": [
      "Accuracy of RF classifier on training set: 1.00\n",
      "Accuracy of RF classifier on test set: 1.00\n"
     ]
    }
   ],
   "source": [
    "from sklearn.ensemble import RandomForestClassifier\n",
    "clf = RandomForestClassifier(max_features = 4, random_state = 0)\n",
    "clf.fit(X_train, y_train)\n",
    "print('Accuracy of RF classifier on training set: {:.2f}'\n",
    "     .format(clf.score(X_train, y_train)))\n",
    "print('Accuracy of RF classifier on test set: {:.2f}'\n",
    "     .format(clf.score(X_test, y_test)))\n",
    "print('Conclusion-Over fitting')"
   ]
  },
  {
   "cell_type": "markdown",
   "metadata": {},
   "source": [
    "#### <span style=\"color:pink\"> Gradient-boosted decision trees"
   ]
  },
  {
   "cell_type": "code",
   "execution_count": 83,
   "metadata": {},
   "outputs": [
    {
     "name": "stdout",
     "output_type": "stream",
     "text": [
      "Accuracy of GBDT classifier on training set: 1.00\n",
      "Accuracy of GBDT classifier on test set: 1.00\n",
      "\n",
      "Accuracy of GBDT classifier on training set: 1.00\n",
      "Accuracy of GBDT classifier on test set: 1.00\n",
      "Conclusion-Over fitting\n"
     ]
    }
   ],
   "source": [
    "from sklearn.ensemble import GradientBoostingClassifier\n",
    "\n",
    "clf = GradientBoostingClassifier(random_state = 0)\n",
    "clf.fit(X_train, y_train)\n",
    "\n",
    "print('Accuracy of GBDT classifier on training set: {:.2f}'\n",
    "     .format(clf.score(X_train, y_train)))\n",
    "print('Accuracy of GBDT classifier on test set: {:.2f}\\n'\n",
    "     .format(clf.score(X_test, y_test)))\n",
    "\n",
    "clf2 = GradientBoostingClassifier(learning_rate = 0.01, max_depth = 2, random_state = 0)\n",
    "clf2.fit(X_train, y_train)\n",
    "\n",
    "print('Accuracy of GBDT classifier on training set: {:.2f}'\n",
    "     .format(clf2.score(X_train, y_train)))\n",
    "print('Accuracy of GBDT classifier on test set: {:.2f}'\n",
    "     .format(clf2.score(X_test, y_test)))\n",
    "print('Conclusion-Over fitting')"
   ]
  },
  {
   "cell_type": "markdown",
   "metadata": {},
   "source": [
    "Even though we used hyper parmaters we can still see over fitting of the model."
   ]
  },
  {
   "cell_type": "markdown",
   "metadata": {},
   "source": [
    "## <span style=\"color:HotPink\"> Naive Bayes classifiers"
   ]
  },
  {
   "cell_type": "code",
   "execution_count": 546,
   "metadata": {},
   "outputs": [
    {
     "name": "stdout",
     "output_type": "stream",
     "text": [
      "Accuracy of GaussianNB classifier on training set: 0.98\n",
      "Accuracy of GaussianNB classifier on test set: 0.98\n"
     ]
    }
   ],
   "source": [
    "from sklearn.naive_bayes import GaussianNB\n",
    "\n",
    "nbclf = GaussianNB().fit(X_train, y_train)\n",
    "print('Accuracy of GaussianNB classifier on training set: {:.2f}'\n",
    "     .format(nbclf.score(X_train, y_train)))\n",
    "print('Accuracy of GaussianNB classifier on test set: {:.2f}'\n",
    "     .format(nbclf.score(X_test, y_test)))"
   ]
  },
  {
   "cell_type": "markdown",
   "metadata": {},
   "source": [
    "## <span style=\"color:HotPink\"> Neural networks"
   ]
  },
  {
   "cell_type": "code",
   "execution_count": 73,
   "metadata": {},
   "outputs": [
    {
     "name": "stdout",
     "output_type": "stream",
     "text": [
      "Accuracy of NN classifier on training set: 1.00\n",
      "Accuracy of NN classifier on test set: 1.00\n",
      "Conclusion-Over fitting. Even if we use hidden_layer_sizes = [70,5], [50,7] and alpha = 7.0\n"
     ]
    }
   ],
   "source": [
    "from sklearn.neural_network import MLPClassifier\n",
    "\n",
    "clf = MLPClassifier(hidden_layer_sizes = [50,5], alpha = 5.0, activation='tanh',\n",
    "                   random_state = 0, solver='lbfgs').fit(X_train_scaled, y_train)\n",
    "\n",
    "print('Accuracy of NN classifier on training set: {:.2f}'\n",
    "     .format(clf.score(X_train_scaled, y_train)))\n",
    "print('Accuracy of NN classifier on test set: {:.2f}'\n",
    "     .format(clf.score(X_test_scaled, y_test)))\n",
    "print('Conclusion-Over fitting. Even if we use hidden_layer_sizes = [70,5], [50,7] and alpha = 7.0')"
   ]
  },
  {
   "cell_type": "markdown",
   "metadata": {},
   "source": [
    "# <span style=\"color:purple\"> Conclusion\n"
   ]
  },
  {
   "cell_type": "code",
   "execution_count": null,
   "metadata": {},
   "outputs": [],
   "source": [
    "Attached on the Pdf."
   ]
  }
 ],
 "metadata": {
  "kernelspec": {
   "display_name": "Python 3",
   "language": "python",
   "name": "python3"
  },
  "language_info": {
   "codemirror_mode": {
    "name": "ipython",
    "version": 3
   },
   "file_extension": ".py",
   "mimetype": "text/x-python",
   "name": "python",
   "nbconvert_exporter": "python",
   "pygments_lexer": "ipython3",
   "version": "3.7.6"
  }
 },
 "nbformat": 4,
 "nbformat_minor": 4
}
